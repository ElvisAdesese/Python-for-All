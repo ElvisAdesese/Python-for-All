{
 "cells": [
  {
   "cell_type": "code",
   "execution_count": 1,
   "id": "df8228e6",
   "metadata": {},
   "outputs": [],
   "source": [
    "my_list= ['First', 'Second', 'Third']"
   ]
  },
  {
   "cell_type": "code",
   "execution_count": 2,
   "id": "a408076c",
   "metadata": {},
   "outputs": [
    {
     "data": {
      "text/plain": [
       "['First', 'Second', 'Third']"
      ]
     },
     "execution_count": 2,
     "metadata": {},
     "output_type": "execute_result"
    }
   ],
   "source": [
    "my_list"
   ]
  },
  {
   "cell_type": "code",
   "execution_count": 4,
   "id": "1feb0ef7",
   "metadata": {},
   "outputs": [
    {
     "name": "stdout",
     "output_type": "stream",
     "text": [
      "First\n",
      "Second\n",
      "Third\n"
     ]
    }
   ],
   "source": [
    "for i in my_list:\n",
    "    print(i)"
   ]
  },
  {
   "cell_type": "code",
   "execution_count": 6,
   "id": "b03d728e",
   "metadata": {},
   "outputs": [
    {
     "name": "stdout",
     "output_type": "stream",
     "text": [
      "E\n",
      "Inside the loop\n",
      "l\n",
      "Inside the loop\n",
      "v\n",
      "Inside the loop\n",
      "i\n",
      "Inside the loop\n",
      "s\n",
      "Inside the loop\n",
      "Outside the loop\n"
     ]
    }
   ],
   "source": [
    "s = 'Elvis'\n",
    "\n",
    "for c in s:\n",
    "    print(c)\n",
    "    print('Inside the loop')\n",
    "print('Outside the loop')"
   ]
  },
  {
   "cell_type": "code",
   "execution_count": 8,
   "id": "37a4c0bb",
   "metadata": {},
   "outputs": [
    {
     "name": "stdout",
     "output_type": "stream",
     "text": [
      "2\n",
      "3\n"
     ]
    }
   ],
   "source": [
    "for i in range(2, 4):\n",
    "    print(i)"
   ]
  },
  {
   "cell_type": "code",
   "execution_count": 9,
   "id": "1e62caef",
   "metadata": {},
   "outputs": [
    {
     "data": {
      "text/plain": [
       "['First', 'Second', 'Third']"
      ]
     },
     "execution_count": 9,
     "metadata": {},
     "output_type": "execute_result"
    }
   ],
   "source": [
    "my_list"
   ]
  },
  {
   "cell_type": "code",
   "execution_count": 10,
   "id": "6345113b",
   "metadata": {},
   "outputs": [
    {
     "name": "stdout",
     "output_type": "stream",
     "text": [
      "0 First\n",
      "1 Second\n",
      "2 Third\n"
     ]
    }
   ],
   "source": [
    "#indexing\n",
    "for i in range(len(my_list)):\n",
    "    print(i, my_list[i])"
   ]
  },
  {
   "cell_type": "code",
   "execution_count": 13,
   "id": "3f7bed12",
   "metadata": {},
   "outputs": [
    {
     "name": "stdout",
     "output_type": "stream",
     "text": [
      "1\n",
      "2\n",
      "3\n",
      "4\n",
      "The end\n"
     ]
    }
   ],
   "source": [
    "i=1\n",
    "\n",
    "while i < 5:\n",
    "    print(i)\n",
    "    i +=1\n",
    "print('The end')    "
   ]
  },
  {
   "cell_type": "code",
   "execution_count": 25,
   "id": "9054aaca",
   "metadata": {},
   "outputs": [
    {
     "name": "stdout",
     "output_type": "stream",
     "text": [
      "Value?22\n",
      "Value?44\n",
      "Value?0\n"
     ]
    }
   ],
   "source": [
    "value = 10\n",
    "\n",
    "while value >0:\n",
    "    value = int(input('Value?'))    "
   ]
  },
  {
   "cell_type": "code",
   "execution_count": 33,
   "id": "d9326703",
   "metadata": {},
   "outputs": [
    {
     "name": "stdout",
     "output_type": "stream",
     "text": [
      "c is not in s\n"
     ]
    }
   ],
   "source": [
    "s = 'abc'\n",
    "c= 'd'\n",
    "\n",
    "if c in s:\n",
    "    print('c is in s')\n",
    "elif c not in s:\n",
    "    print('c is not in s')"
   ]
  },
  {
   "cell_type": "code",
   "execution_count": 34,
   "id": "b80b5b07",
   "metadata": {},
   "outputs": [
    {
     "name": "stdout",
     "output_type": "stream",
     "text": [
      "Awesome\n"
     ]
    }
   ],
   "source": [
    "a=13\n",
    "b=14\n",
    "c=10\n",
    "\n",
    "if a < b or b < c:\n",
    "    print('Awesome')"
   ]
  },
  {
   "cell_type": "code",
   "execution_count": 35,
   "id": "3ee03deb",
   "metadata": {},
   "outputs": [],
   "source": [
    "import random "
   ]
  }
 ],
 "metadata": {
  "kernelspec": {
   "display_name": "Python 3 (ipykernel)",
   "language": "python",
   "name": "python3"
  },
  "language_info": {
   "codemirror_mode": {
    "name": "ipython",
    "version": 3
   },
   "file_extension": ".py",
   "mimetype": "text/x-python",
   "name": "python",
   "nbconvert_exporter": "python",
   "pygments_lexer": "ipython3",
   "version": "3.9.7"
  }
 },
 "nbformat": 4,
 "nbformat_minor": 5
}
