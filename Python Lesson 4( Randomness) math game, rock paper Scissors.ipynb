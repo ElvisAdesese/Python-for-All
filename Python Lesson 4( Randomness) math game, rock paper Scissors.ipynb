{
 "cells": [
  {
   "cell_type": "code",
   "execution_count": 1,
   "id": "40f3bf4e",
   "metadata": {},
   "outputs": [],
   "source": [
    "import random"
   ]
  },
  {
   "cell_type": "code",
   "execution_count": 30,
   "id": "e980b06b",
   "metadata": {},
   "outputs": [
    {
     "data": {
      "text/plain": [
       "6"
      ]
     },
     "execution_count": 30,
     "metadata": {},
     "output_type": "execute_result"
    }
   ],
   "source": [
    "random.randint(1, 6)"
   ]
  },
  {
   "cell_type": "code",
   "execution_count": 33,
   "id": "37d187c3",
   "metadata": {},
   "outputs": [],
   "source": [
    "a=random.randint(1, 6)"
   ]
  },
  {
   "cell_type": "code",
   "execution_count": 34,
   "id": "74fc0850",
   "metadata": {},
   "outputs": [
    {
     "data": {
      "text/plain": [
       "3"
      ]
     },
     "execution_count": 34,
     "metadata": {},
     "output_type": "execute_result"
    }
   ],
   "source": [
    "a"
   ]
  },
  {
   "cell_type": "code",
   "execution_count": 37,
   "id": "9c5d784d",
   "metadata": {},
   "outputs": [
    {
     "data": {
      "text/plain": [
       "0.69845034238403"
      ]
     },
     "execution_count": 37,
     "metadata": {},
     "output_type": "execute_result"
    }
   ],
   "source": [
    "random.uniform(0,1)"
   ]
  },
  {
   "cell_type": "code",
   "execution_count": 41,
   "id": "c0927f0a",
   "metadata": {},
   "outputs": [
    {
     "data": {
      "text/plain": [
       "0.30388642381351094"
      ]
     },
     "execution_count": 41,
     "metadata": {},
     "output_type": "execute_result"
    }
   ],
   "source": [
    "random.gauss(0,1)"
   ]
  },
  {
   "cell_type": "code",
   "execution_count": 45,
   "id": "2c7c5b4e",
   "metadata": {},
   "outputs": [
    {
     "name": "stdout",
     "output_type": "stream",
     "text": [
      "What is 9 times 10? 90\n",
      "Correct 9 times 10 is 90\n"
     ]
    }
   ],
   "source": [
    "a= random.randint(1, 10)\n",
    "b= random.randint(1, 10)\n",
    "answer = input(f'What is {a} times {b}? ')\n",
    "answer = int(answer)\n",
    "if answer == a*b:\n",
    "    print(f'Correct {a} times {b} is {answer}')\n",
    "else:\n",
    "    print(f'Incorrect {a} times {b} is {a*b}')"
   ]
  },
  {
   "cell_type": "code",
   "execution_count": null,
   "id": "680023cf",
   "metadata": {},
   "outputs": [],
   "source": []
  }
 ],
 "metadata": {
  "kernelspec": {
   "display_name": "Python 3 (ipykernel)",
   "language": "python",
   "name": "python3"
  },
  "language_info": {
   "codemirror_mode": {
    "name": "ipython",
    "version": 3
   },
   "file_extension": ".py",
   "mimetype": "text/x-python",
   "name": "python",
   "nbconvert_exporter": "python",
   "pygments_lexer": "ipython3",
   "version": "3.9.7"
  }
 },
 "nbformat": 4,
 "nbformat_minor": 5
}
