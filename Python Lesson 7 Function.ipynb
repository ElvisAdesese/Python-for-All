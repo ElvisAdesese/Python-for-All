{
 "cells": [
  {
   "cell_type": "code",
   "execution_count": 1,
   "id": "6c64e8e7",
   "metadata": {},
   "outputs": [],
   "source": [
    "def my_func():\n",
    "    print('Hello World!')\n",
    "    "
   ]
  },
  {
   "cell_type": "code",
   "execution_count": 2,
   "id": "0892e3ca",
   "metadata": {},
   "outputs": [
    {
     "name": "stdout",
     "output_type": "stream",
     "text": [
      "Hello World!\n"
     ]
    }
   ],
   "source": [
    "my_func()"
   ]
  },
  {
   "cell_type": "code",
   "execution_count": 3,
   "id": "1d5c968a",
   "metadata": {},
   "outputs": [],
   "source": [
    "#asking name\n",
    "def print_name(name):\n",
    "    print(f'Hello {name}')"
   ]
  },
  {
   "cell_type": "code",
   "execution_count": 4,
   "id": "b6eba725",
   "metadata": {},
   "outputs": [
    {
     "name": "stdout",
     "output_type": "stream",
     "text": [
      "Hello Elvis\n"
     ]
    }
   ],
   "source": [
    "print_name('Elvis')"
   ]
  },
  {
   "cell_type": "code",
   "execution_count": 7,
   "id": "30eb151d",
   "metadata": {},
   "outputs": [],
   "source": [
    "#asking name and age\n",
    "def print_age(name, age):\n",
    "    print(f'Hello {name}')\n",
    "    print(f'You are {age} years old')"
   ]
  },
  {
   "cell_type": "code",
   "execution_count": 8,
   "id": "8888f788",
   "metadata": {},
   "outputs": [
    {
     "name": "stdout",
     "output_type": "stream",
     "text": [
      "Hello Elvis\n",
      "You are 26 years old\n"
     ]
    }
   ],
   "source": [
    "print_age('Elvis', 26)"
   ]
  },
  {
   "cell_type": "code",
   "execution_count": 9,
   "id": "ea9f31d9",
   "metadata": {},
   "outputs": [],
   "source": [
    "#calculate_age\n",
    "def calculate_age(birth_year):\n",
    "    return 2022 - birth_year"
   ]
  },
  {
   "cell_type": "code",
   "execution_count": 11,
   "id": "e4dc2bf9",
   "metadata": {},
   "outputs": [
    {
     "data": {
      "text/plain": [
       "26"
      ]
     },
     "execution_count": 11,
     "metadata": {},
     "output_type": "execute_result"
    }
   ],
   "source": [
    "calculate_age(1996)"
   ]
  },
  {
   "cell_type": "code",
   "execution_count": 16,
   "id": "15d56380",
   "metadata": {},
   "outputs": [
    {
     "data": {
      "text/plain": [
       "65"
      ]
     },
     "execution_count": 16,
     "metadata": {},
     "output_type": "execute_result"
    }
   ],
   "source": [
    "ord('A')"
   ]
  },
  {
   "cell_type": "code",
   "execution_count": 17,
   "id": "c62cb7ed",
   "metadata": {},
   "outputs": [
    {
     "data": {
      "text/plain": [
       "'A'"
      ]
     },
     "execution_count": 17,
     "metadata": {},
     "output_type": "execute_result"
    }
   ],
   "source": [
    "chr(65)"
   ]
  },
  {
   "cell_type": "code",
   "execution_count": 18,
   "id": "9e0b6b3f",
   "metadata": {},
   "outputs": [
    {
     "data": {
      "text/plain": [
       "'B'"
      ]
     },
     "execution_count": 18,
     "metadata": {},
     "output_type": "execute_result"
    }
   ],
   "source": [
    "chr(66)"
   ]
  },
  {
   "cell_type": "code",
   "execution_count": 19,
   "id": "eb3d258a",
   "metadata": {},
   "outputs": [
    {
     "name": "stdout",
     "output_type": "stream",
     "text": [
      "65 is A\n",
      "66 is B\n",
      "67 is C\n",
      "68 is D\n",
      "69 is E\n",
      "70 is F\n",
      "71 is G\n",
      "72 is H\n",
      "73 is I\n",
      "74 is J\n",
      "75 is K\n",
      "76 is L\n",
      "77 is M\n",
      "78 is N\n",
      "79 is O\n",
      "80 is P\n",
      "81 is Q\n",
      "82 is R\n",
      "83 is S\n",
      "84 is T\n",
      "85 is U\n",
      "86 is V\n",
      "87 is W\n",
      "88 is X\n",
      "89 is Y\n",
      "90 is Z\n"
     ]
    }
   ],
   "source": [
    "for c in range(65, 65 + 26):\n",
    "    print(f'{c} is {chr(c)}')"
   ]
  },
  {
   "cell_type": "code",
   "execution_count": null,
   "id": "6068fe1b",
   "metadata": {},
   "outputs": [],
   "source": []
  }
 ],
 "metadata": {
  "kernelspec": {
   "display_name": "Python 3 (ipykernel)",
   "language": "python",
   "name": "python3"
  },
  "language_info": {
   "codemirror_mode": {
    "name": "ipython",
    "version": 3
   },
   "file_extension": ".py",
   "mimetype": "text/x-python",
   "name": "python",
   "nbconvert_exporter": "python",
   "pygments_lexer": "ipython3",
   "version": "3.9.7"
  }
 },
 "nbformat": 4,
 "nbformat_minor": 5
}
