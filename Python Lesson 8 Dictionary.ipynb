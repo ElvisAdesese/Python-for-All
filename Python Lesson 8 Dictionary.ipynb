{
 "cells": [
  {
   "cell_type": "code",
   "execution_count": 4,
   "id": "c2723e64",
   "metadata": {},
   "outputs": [],
   "source": [
    "my_dict = {\n",
    "    'Key 1':'Value 1',\n",
    "    'Key 2':'Value 2'\n",
    "    \n",
    "}"
   ]
  },
  {
   "cell_type": "code",
   "execution_count": 6,
   "id": "57511353",
   "metadata": {},
   "outputs": [
    {
     "data": {
      "text/plain": [
       "'Value 1'"
      ]
     },
     "execution_count": 6,
     "metadata": {},
     "output_type": "execute_result"
    }
   ],
   "source": [
    "my_dict['Key 1']"
   ]
  },
  {
   "cell_type": "code",
   "execution_count": 7,
   "id": "6e89a07c",
   "metadata": {},
   "outputs": [
    {
     "data": {
      "text/plain": [
       "'Value 2'"
      ]
     },
     "execution_count": 7,
     "metadata": {},
     "output_type": "execute_result"
    }
   ],
   "source": [
    "my_dict['Key 2']"
   ]
  },
  {
   "cell_type": "code",
   "execution_count": 8,
   "id": "68e7a1ef",
   "metadata": {},
   "outputs": [],
   "source": [
    "#creating another key and assigning a third value\n",
    "my_dict['Key 3']= 'Value 3'"
   ]
  },
  {
   "cell_type": "code",
   "execution_count": 9,
   "id": "5e131a70",
   "metadata": {},
   "outputs": [
    {
     "data": {
      "text/plain": [
       "{'Key 1': 'Value 1', 'Key 2': 'Value 2', 'Key 3': 'Value 3'}"
      ]
     },
     "execution_count": 9,
     "metadata": {},
     "output_type": "execute_result"
    }
   ],
   "source": [
    "my_dict"
   ]
  },
  {
   "cell_type": "code",
   "execution_count": 10,
   "id": "69efeb2f",
   "metadata": {},
   "outputs": [],
   "source": [
    "#updating a key value\n",
    "my_dict['Key 2']= 'Value 3'"
   ]
  },
  {
   "cell_type": "code",
   "execution_count": 11,
   "id": "9753f1d0",
   "metadata": {},
   "outputs": [
    {
     "data": {
      "text/plain": [
       "{'Key 1': 'Value 1', 'Key 2': 'Value 3', 'Key 3': 'Value 3'}"
      ]
     },
     "execution_count": 11,
     "metadata": {},
     "output_type": "execute_result"
    }
   ],
   "source": [
    "my_dict"
   ]
  },
  {
   "cell_type": "code",
   "execution_count": 12,
   "id": "99e160bf",
   "metadata": {},
   "outputs": [],
   "source": [
    "car = {\n",
    "    'Brand': 'Masarati',\n",
    "    'Model': 'Sar',\n",
    "    'Year' : 2022\n",
    "    \n",
    "}"
   ]
  },
  {
   "cell_type": "code",
   "execution_count": 13,
   "id": "b050d9d6",
   "metadata": {},
   "outputs": [
    {
     "data": {
      "text/plain": [
       "{'Brand': 'Masarati', 'Model': 'Sar', 'Year': 2022}"
      ]
     },
     "execution_count": 13,
     "metadata": {},
     "output_type": "execute_result"
    }
   ],
   "source": [
    "car"
   ]
  },
  {
   "cell_type": "code",
   "execution_count": 14,
   "id": "db0b5b60",
   "metadata": {},
   "outputs": [],
   "source": [
    "items = ['Pen', 'Table', 'Chair', 'Pen', 'Scissors']\n",
    "\n",
    "count = {}\n",
    "for item in items:\n",
    "    count[item] = count.get(item, 0) + 1"
   ]
  },
  {
   "cell_type": "code",
   "execution_count": 15,
   "id": "c04310f0",
   "metadata": {},
   "outputs": [
    {
     "data": {
      "text/plain": [
       "{'Pen': 2, 'Table': 1, 'Chair': 1, 'Scissors': 1}"
      ]
     },
     "execution_count": 15,
     "metadata": {},
     "output_type": "execute_result"
    }
   ],
   "source": [
    "count"
   ]
  },
  {
   "cell_type": "code",
   "execution_count": 17,
   "id": "246a577d",
   "metadata": {},
   "outputs": [
    {
     "name": "stdout",
     "output_type": "stream",
     "text": [
      "Pen 2\n",
      "Table 1\n",
      "Chair 1\n",
      "Scissors 1\n"
     ]
    }
   ],
   "source": [
    "for key, value in count.items():\n",
    "    print(key, value)"
   ]
  },
  {
   "cell_type": "code",
   "execution_count": 18,
   "id": "f3bdcb4a",
   "metadata": {},
   "outputs": [
    {
     "name": "stdout",
     "output_type": "stream",
     "text": [
      "Brand Masarati\n",
      "Model Sar\n",
      "Year 2022\n"
     ]
    }
   ],
   "source": [
    "for key, value in car.items():\n",
    "    print(key, value)"
   ]
  },
  {
   "cell_type": "code",
   "execution_count": 22,
   "id": "9a904aed",
   "metadata": {},
   "outputs": [
    {
     "data": {
      "text/plain": [
       "dict_keys(['Brand', 'Model', 'Year'])"
      ]
     },
     "execution_count": 22,
     "metadata": {},
     "output_type": "execute_result"
    }
   ],
   "source": [
    "car.keys()"
   ]
  },
  {
   "cell_type": "code",
   "execution_count": 24,
   "id": "d153ef9f",
   "metadata": {},
   "outputs": [
    {
     "data": {
      "text/plain": [
       "['Brand', 'Model', 'Year']"
      ]
     },
     "execution_count": 24,
     "metadata": {},
     "output_type": "execute_result"
    }
   ],
   "source": [
    "list(car.keys())"
   ]
  },
  {
   "cell_type": "code",
   "execution_count": 25,
   "id": "1d1e4815",
   "metadata": {},
   "outputs": [
    {
     "data": {
      "text/plain": [
       "['Pen', 'Table', 'Chair', 'Scissors']"
      ]
     },
     "execution_count": 25,
     "metadata": {},
     "output_type": "execute_result"
    }
   ],
   "source": [
    "list(count.keys())"
   ]
  },
  {
   "cell_type": "code",
   "execution_count": null,
   "id": "236e51c0",
   "metadata": {},
   "outputs": [],
   "source": []
  }
 ],
 "metadata": {
  "kernelspec": {
   "display_name": "Python 3 (ipykernel)",
   "language": "python",
   "name": "python3"
  },
  "language_info": {
   "codemirror_mode": {
    "name": "ipython",
    "version": 3
   },
   "file_extension": ".py",
   "mimetype": "text/x-python",
   "name": "python",
   "nbconvert_exporter": "python",
   "pygments_lexer": "ipython3",
   "version": "3.9.7"
  }
 },
 "nbformat": 4,
 "nbformat_minor": 5
}
