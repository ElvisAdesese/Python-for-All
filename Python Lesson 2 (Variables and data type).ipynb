{
 "cells": [
  {
   "cell_type": "code",
   "execution_count": 1,
   "id": "290247a5",
   "metadata": {},
   "outputs": [],
   "source": [
    "s = 'This is a String'\n",
    "num = 4\n",
    "bool = 4.4"
   ]
  },
  {
   "cell_type": "code",
   "execution_count": 2,
   "id": "7febd501",
   "metadata": {},
   "outputs": [
    {
     "data": {
      "text/plain": [
       "str"
      ]
     },
     "execution_count": 2,
     "metadata": {},
     "output_type": "execute_result"
    }
   ],
   "source": [
    "type(s)"
   ]
  },
  {
   "cell_type": "code",
   "execution_count": 3,
   "id": "9465092f",
   "metadata": {},
   "outputs": [
    {
     "data": {
      "text/plain": [
       "int"
      ]
     },
     "execution_count": 3,
     "metadata": {},
     "output_type": "execute_result"
    }
   ],
   "source": [
    "type(num)"
   ]
  },
  {
   "cell_type": "code",
   "execution_count": 4,
   "id": "2acf95fb",
   "metadata": {},
   "outputs": [
    {
     "data": {
      "text/plain": [
       "float"
      ]
     },
     "execution_count": 4,
     "metadata": {},
     "output_type": "execute_result"
    }
   ],
   "source": [
    "type(bool)"
   ]
  },
  {
   "cell_type": "code",
   "execution_count": 5,
   "id": "e4e0bf5d",
   "metadata": {},
   "outputs": [],
   "source": [
    "a =2\n",
    "b=5"
   ]
  },
  {
   "cell_type": "markdown",
   "id": "9729c0cc",
   "metadata": {},
   "source": [
    "Integer"
   ]
  },
  {
   "cell_type": "code",
   "execution_count": 6,
   "id": "90496f3e",
   "metadata": {},
   "outputs": [
    {
     "data": {
      "text/plain": [
       "(int, int)"
      ]
     },
     "execution_count": 6,
     "metadata": {},
     "output_type": "execute_result"
    }
   ],
   "source": [
    "type(a), type(b)"
   ]
  },
  {
   "cell_type": "code",
   "execution_count": 7,
   "id": "63972815",
   "metadata": {},
   "outputs": [
    {
     "data": {
      "text/plain": [
       "int"
      ]
     },
     "execution_count": 7,
     "metadata": {},
     "output_type": "execute_result"
    }
   ],
   "source": [
    "type(a+b)"
   ]
  },
  {
   "cell_type": "code",
   "execution_count": 8,
   "id": "5673fb0e",
   "metadata": {},
   "outputs": [
    {
     "data": {
      "text/plain": [
       "int"
      ]
     },
     "execution_count": 8,
     "metadata": {},
     "output_type": "execute_result"
    }
   ],
   "source": [
    "c= (a+b)\n",
    "type(c)"
   ]
  },
  {
   "cell_type": "markdown",
   "id": "8e3ca744",
   "metadata": {},
   "source": [
    "Float"
   ]
  },
  {
   "cell_type": "code",
   "execution_count": 10,
   "id": "3338e5ed",
   "metadata": {},
   "outputs": [],
   "source": [
    "a =2.2\n",
    "b =3.4\n"
   ]
  },
  {
   "cell_type": "code",
   "execution_count": 11,
   "id": "41ddfc2a",
   "metadata": {},
   "outputs": [
    {
     "data": {
      "text/plain": [
       "(float, float)"
      ]
     },
     "execution_count": 11,
     "metadata": {},
     "output_type": "execute_result"
    }
   ],
   "source": [
    "type(a), type(b)"
   ]
  },
  {
   "cell_type": "code",
   "execution_count": 12,
   "id": "def0cf04",
   "metadata": {},
   "outputs": [
    {
     "data": {
      "text/plain": [
       "float"
      ]
     },
     "execution_count": 12,
     "metadata": {},
     "output_type": "execute_result"
    }
   ],
   "source": [
    "type(a+b)"
   ]
  },
  {
   "cell_type": "markdown",
   "id": "c66544f9",
   "metadata": {},
   "source": [
    "Math Fuction"
   ]
  },
  {
   "cell_type": "code",
   "execution_count": 15,
   "id": "368a5c24",
   "metadata": {},
   "outputs": [
    {
     "data": {
      "text/plain": [
       "8"
      ]
     },
     "execution_count": 15,
     "metadata": {},
     "output_type": "execute_result"
    }
   ],
   "source": [
    "#power\n",
    "pow(2,3)"
   ]
  },
  {
   "cell_type": "code",
   "execution_count": 17,
   "id": "3405e803",
   "metadata": {},
   "outputs": [
    {
     "data": {
      "text/plain": [
       "4.4"
      ]
     },
     "execution_count": 17,
     "metadata": {},
     "output_type": "execute_result"
    }
   ],
   "source": [
    "round(4.44, 1)"
   ]
  },
  {
   "cell_type": "code",
   "execution_count": 19,
   "id": "b4a34642",
   "metadata": {},
   "outputs": [
    {
     "data": {
      "text/plain": [
       "1.2346"
      ]
     },
     "execution_count": 19,
     "metadata": {},
     "output_type": "execute_result"
    }
   ],
   "source": [
    "r= 1.23456789\n",
    "round(r, 4)"
   ]
  },
  {
   "cell_type": "markdown",
   "id": "f1f6f7fd",
   "metadata": {},
   "source": [
    "String"
   ]
  },
  {
   "cell_type": "code",
   "execution_count": 26,
   "id": "53e536e8",
   "metadata": {},
   "outputs": [],
   "source": [
    "s1 = 'This is a string. '\n",
    "s2 = 'This is another string '"
   ]
  },
  {
   "cell_type": "code",
   "execution_count": 27,
   "id": "286e3dde",
   "metadata": {},
   "outputs": [
    {
     "data": {
      "text/plain": [
       "'This is a string. This is another string '"
      ]
     },
     "execution_count": 27,
     "metadata": {},
     "output_type": "execute_result"
    }
   ],
   "source": [
    "s1 + s2"
   ]
  },
  {
   "cell_type": "code",
   "execution_count": 28,
   "id": "db325fe1",
   "metadata": {},
   "outputs": [],
   "source": [
    "a = 1"
   ]
  },
  {
   "cell_type": "code",
   "execution_count": 29,
   "id": "7192f892",
   "metadata": {},
   "outputs": [
    {
     "ename": "TypeError",
     "evalue": "can only concatenate str (not \"int\") to str",
     "output_type": "error",
     "traceback": [
      "\u001b[1;31m---------------------------------------------------------------------------\u001b[0m",
      "\u001b[1;31mTypeError\u001b[0m                                 Traceback (most recent call last)",
      "\u001b[1;32m~\\AppData\\Local\\Temp/ipykernel_1840/1792054049.py\u001b[0m in \u001b[0;36m<module>\u001b[1;34m\u001b[0m\n\u001b[1;32m----> 1\u001b[1;33m \u001b[0ms1\u001b[0m \u001b[1;33m+\u001b[0m \u001b[0ma\u001b[0m\u001b[1;33m\u001b[0m\u001b[1;33m\u001b[0m\u001b[0m\n\u001b[0m",
      "\u001b[1;31mTypeError\u001b[0m: can only concatenate str (not \"int\") to str"
     ]
    }
   ],
   "source": [
    "s1 + a "
   ]
  },
  {
   "cell_type": "code",
   "execution_count": 31,
   "id": "b2149522",
   "metadata": {},
   "outputs": [
    {
     "name": "stdout",
     "output_type": "stream",
     "text": [
      "I am a string with a number integer here 7 - add more text \n"
     ]
    }
   ],
   "source": [
    "print(f'I am a string with a number integer here {a+6} - add more text ' )"
   ]
  },
  {
   "cell_type": "markdown",
   "id": "5a78c99e",
   "metadata": {},
   "source": [
    "BOOLEAN"
   ]
  },
  {
   "cell_type": "code",
   "execution_count": 32,
   "id": "3aa48dd2",
   "metadata": {},
   "outputs": [],
   "source": [
    "b= 10 >3"
   ]
  },
  {
   "cell_type": "code",
   "execution_count": 33,
   "id": "be3baa0b",
   "metadata": {},
   "outputs": [
    {
     "data": {
      "text/plain": [
       "True"
      ]
     },
     "execution_count": 33,
     "metadata": {},
     "output_type": "execute_result"
    }
   ],
   "source": [
    "b"
   ]
  },
  {
   "cell_type": "code",
   "execution_count": 41,
   "id": "1732db34",
   "metadata": {},
   "outputs": [],
   "source": [
    "b= 10 <3"
   ]
  },
  {
   "cell_type": "code",
   "execution_count": 42,
   "id": "e46727c1",
   "metadata": {},
   "outputs": [
    {
     "data": {
      "text/plain": [
       "False"
      ]
     },
     "execution_count": 42,
     "metadata": {},
     "output_type": "execute_result"
    }
   ],
   "source": [
    "b"
   ]
  },
  {
   "cell_type": "code",
   "execution_count": null,
   "id": "df02eeb1",
   "metadata": {},
   "outputs": [],
   "source": []
  }
 ],
 "metadata": {
  "kernelspec": {
   "display_name": "Python 3 (ipykernel)",
   "language": "python",
   "name": "python3"
  },
  "language_info": {
   "codemirror_mode": {
    "name": "ipython",
    "version": 3
   },
   "file_extension": ".py",
   "mimetype": "text/x-python",
   "name": "python",
   "nbconvert_exporter": "python",
   "pygments_lexer": "ipython3",
   "version": "3.9.7"
  }
 },
 "nbformat": 4,
 "nbformat_minor": 5
}
