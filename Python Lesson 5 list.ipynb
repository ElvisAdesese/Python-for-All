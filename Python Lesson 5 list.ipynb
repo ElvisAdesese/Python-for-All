{
 "cells": [
  {
   "cell_type": "code",
   "execution_count": 2,
   "id": "25c7672d",
   "metadata": {},
   "outputs": [],
   "source": [
    "my_list = ['Rice', 'Banana', 'Garri']"
   ]
  },
  {
   "cell_type": "code",
   "execution_count": 3,
   "id": "fe15cc6b",
   "metadata": {},
   "outputs": [
    {
     "data": {
      "text/plain": [
       "['Rice', 'Banana', 'Garri']"
      ]
     },
     "execution_count": 3,
     "metadata": {},
     "output_type": "execute_result"
    }
   ],
   "source": [
    "my_list"
   ]
  },
  {
   "cell_type": "code",
   "execution_count": 4,
   "id": "01413563",
   "metadata": {},
   "outputs": [
    {
     "data": {
      "text/plain": [
       "'Rice'"
      ]
     },
     "execution_count": 4,
     "metadata": {},
     "output_type": "execute_result"
    }
   ],
   "source": [
    "my_list[0]"
   ]
  },
  {
   "cell_type": "code",
   "execution_count": 5,
   "id": "686a1dac",
   "metadata": {},
   "outputs": [
    {
     "data": {
      "text/plain": [
       "'Banana'"
      ]
     },
     "execution_count": 5,
     "metadata": {},
     "output_type": "execute_result"
    }
   ],
   "source": [
    "my_list[1]"
   ]
  },
  {
   "cell_type": "code",
   "execution_count": 6,
   "id": "cad2f177",
   "metadata": {},
   "outputs": [
    {
     "data": {
      "text/plain": [
       "'Garri'"
      ]
     },
     "execution_count": 6,
     "metadata": {},
     "output_type": "execute_result"
    }
   ],
   "source": [
    "my_list[2]"
   ]
  },
  {
   "cell_type": "code",
   "execution_count": 7,
   "id": "5e24208f",
   "metadata": {},
   "outputs": [
    {
     "data": {
      "text/plain": [
       "'Garri'"
      ]
     },
     "execution_count": 7,
     "metadata": {},
     "output_type": "execute_result"
    }
   ],
   "source": [
    "my_list[-1]"
   ]
  },
  {
   "cell_type": "code",
   "execution_count": 8,
   "id": "c43fcee4",
   "metadata": {},
   "outputs": [
    {
     "data": {
      "text/plain": [
       "'Banana'"
      ]
     },
     "execution_count": 8,
     "metadata": {},
     "output_type": "execute_result"
    }
   ],
   "source": [
    "my_list[-2]"
   ]
  },
  {
   "cell_type": "code",
   "execution_count": 9,
   "id": "1c5e9107",
   "metadata": {},
   "outputs": [
    {
     "data": {
      "text/plain": [
       "'Rice'"
      ]
     },
     "execution_count": 9,
     "metadata": {},
     "output_type": "execute_result"
    }
   ],
   "source": [
    "my_list[-0]"
   ]
  },
  {
   "cell_type": "code",
   "execution_count": 10,
   "id": "c83e8557",
   "metadata": {},
   "outputs": [
    {
     "data": {
      "text/plain": [
       "'Garri'"
      ]
     },
     "execution_count": 10,
     "metadata": {},
     "output_type": "execute_result"
    }
   ],
   "source": [
    "#removing the last element\n",
    "my_list.pop()"
   ]
  },
  {
   "cell_type": "code",
   "execution_count": 11,
   "id": "70d66f9e",
   "metadata": {},
   "outputs": [
    {
     "data": {
      "text/plain": [
       "['Rice', 'Banana']"
      ]
     },
     "execution_count": 11,
     "metadata": {},
     "output_type": "execute_result"
    }
   ],
   "source": [
    "my_list"
   ]
  },
  {
   "cell_type": "code",
   "execution_count": 12,
   "id": "07f50659",
   "metadata": {},
   "outputs": [],
   "source": [
    "my_list.append('Rice')"
   ]
  },
  {
   "cell_type": "code",
   "execution_count": 13,
   "id": "80584abb",
   "metadata": {},
   "outputs": [],
   "source": [
    "another_list= ['Nigeria', 'France', 'Italy']"
   ]
  },
  {
   "cell_type": "code",
   "execution_count": 14,
   "id": "1f7ed7b8",
   "metadata": {},
   "outputs": [
    {
     "data": {
      "text/plain": [
       "['Nigeria', 'France', 'Italy', 'Rice', 'Banana', 'Rice']"
      ]
     },
     "execution_count": 14,
     "metadata": {},
     "output_type": "execute_result"
    }
   ],
   "source": [
    "another_list + my_list"
   ]
  },
  {
   "cell_type": "code",
   "execution_count": 15,
   "id": "579a67d5",
   "metadata": {},
   "outputs": [],
   "source": [
    "new_list = another_list + my_list"
   ]
  },
  {
   "cell_type": "code",
   "execution_count": 16,
   "id": "a62c9ef2",
   "metadata": {},
   "outputs": [
    {
     "data": {
      "text/plain": [
       "['Nigeria', 'France', 'Italy', 'Rice', 'Banana', 'Rice']"
      ]
     },
     "execution_count": 16,
     "metadata": {},
     "output_type": "execute_result"
    }
   ],
   "source": [
    "new_list"
   ]
  },
  {
   "cell_type": "code",
   "execution_count": 17,
   "id": "b26d55fd",
   "metadata": {},
   "outputs": [],
   "source": [
    "import random"
   ]
  },
  {
   "cell_type": "code",
   "execution_count": 18,
   "id": "fac11123",
   "metadata": {},
   "outputs": [
    {
     "data": {
      "text/plain": [
       "'Banana'"
      ]
     },
     "execution_count": 18,
     "metadata": {},
     "output_type": "execute_result"
    }
   ],
   "source": [
    "random.choice(new_list)"
   ]
  },
  {
   "cell_type": "code",
   "execution_count": 19,
   "id": "652de204",
   "metadata": {},
   "outputs": [],
   "source": [
    "random.shuffle(new_list)"
   ]
  },
  {
   "cell_type": "code",
   "execution_count": 20,
   "id": "eb87c2de",
   "metadata": {},
   "outputs": [
    {
     "data": {
      "text/plain": [
       "['France', 'Banana', 'Italy', 'Rice', 'Nigeria', 'Rice']"
      ]
     },
     "execution_count": 20,
     "metadata": {},
     "output_type": "execute_result"
    }
   ],
   "source": [
    "new_list"
   ]
  },
  {
   "cell_type": "code",
   "execution_count": 22,
   "id": "2429732e",
   "metadata": {},
   "outputs": [
    {
     "data": {
      "text/plain": [
       "'France Banana Italy Rice Nigeria Rice'"
      ]
     },
     "execution_count": 22,
     "metadata": {},
     "output_type": "execute_result"
    }
   ],
   "source": [
    "' '.join(new_list)"
   ]
  },
  {
   "cell_type": "code",
   "execution_count": 23,
   "id": "2600b0e2",
   "metadata": {},
   "outputs": [
    {
     "data": {
      "text/plain": [
       "['a', 'a', 'g', 'z', 'n', 'm', 'i']"
      ]
     },
     "execution_count": 23,
     "metadata": {},
     "output_type": "execute_result"
    }
   ],
   "source": [
    "s = 'amazing'\n",
    "random.sample(s, len(s))"
   ]
  },
  {
   "cell_type": "code",
   "execution_count": 40,
   "id": "c91ac5d4",
   "metadata": {},
   "outputs": [
    {
     "data": {
      "text/plain": [
       "'maignaz'"
      ]
     },
     "execution_count": 40,
     "metadata": {},
     "output_type": "execute_result"
    }
   ],
   "source": [
    "js = 'amazing'\n",
    "''.join(random.sample(s, len(s)))"
   ]
  },
  {
   "cell_type": "code",
   "execution_count": 24,
   "id": "5d34679b",
   "metadata": {},
   "outputs": [],
   "source": [
    "my_num = [3,5,4,6,6]"
   ]
  },
  {
   "cell_type": "code",
   "execution_count": 25,
   "id": "3b28c27c",
   "metadata": {},
   "outputs": [
    {
     "data": {
      "text/plain": [
       "[3, 5, 4, 6, 6]"
      ]
     },
     "execution_count": 25,
     "metadata": {},
     "output_type": "execute_result"
    }
   ],
   "source": [
    "my_num"
   ]
  },
  {
   "cell_type": "code",
   "execution_count": 43,
   "id": "755fb712",
   "metadata": {},
   "outputs": [
    {
     "data": {
      "text/plain": [
       "6"
      ]
     },
     "execution_count": 43,
     "metadata": {},
     "output_type": "execute_result"
    }
   ],
   "source": [
    "max(my_num)"
   ]
  },
  {
   "cell_type": "code",
   "execution_count": 44,
   "id": "40be0fe3",
   "metadata": {},
   "outputs": [
    {
     "data": {
      "text/plain": [
       "3"
      ]
     },
     "execution_count": 44,
     "metadata": {},
     "output_type": "execute_result"
    }
   ],
   "source": [
    "min(my_num)"
   ]
  },
  {
   "cell_type": "code",
   "execution_count": 45,
   "id": "81116720",
   "metadata": {},
   "outputs": [
    {
     "data": {
      "text/plain": [
       "5"
      ]
     },
     "execution_count": 45,
     "metadata": {},
     "output_type": "execute_result"
    }
   ],
   "source": [
    "len(my_num)"
   ]
  },
  {
   "cell_type": "code",
   "execution_count": 46,
   "id": "5ffb2ce0",
   "metadata": {},
   "outputs": [
    {
     "data": {
      "text/plain": [
       "4.8"
      ]
     },
     "execution_count": 46,
     "metadata": {},
     "output_type": "execute_result"
    }
   ],
   "source": [
    "sum(my_num)/len(my_num)"
   ]
  },
  {
   "cell_type": "code",
   "execution_count": 47,
   "id": "9ab6fd80",
   "metadata": {},
   "outputs": [
    {
     "data": {
      "text/plain": [
       "24"
      ]
     },
     "execution_count": 47,
     "metadata": {},
     "output_type": "execute_result"
    }
   ],
   "source": [
    "sum(my_num)"
   ]
  },
  {
   "cell_type": "code",
   "execution_count": 48,
   "id": "0aaf0c96",
   "metadata": {},
   "outputs": [],
   "source": [
    "import random"
   ]
  },
  {
   "cell_type": "code",
   "execution_count": 73,
   "id": "cbd94cf5",
   "metadata": {},
   "outputs": [
    {
     "name": "stdout",
     "output_type": "stream",
     "text": [
      "The Jumble word is tiSers\n",
      "Write your guess:Sister\n",
      "Correct\n"
     ]
    }
   ],
   "source": [
    "words = ['father', 'Company', 'Mother', 'Sister', 'Church', 'Entertainment', 'Novel', 'Book', 'Discord']\n",
    "word=random.choice(words)\n",
    "\n",
    "jumble=''.join(random.sample(word, len(word)))\n",
    "\n",
    "print(f'The Jumble word is {jumble}')\n",
    "guess =input('Write your guess:')\n",
    "\n",
    "if guess ==word:\n",
    "    print('Correct')\n",
    "else:\n",
    "    print(f'Incorrect: The word is {word}')"
   ]
  },
  {
   "cell_type": "code",
   "execution_count": null,
   "id": "8d9d783b",
   "metadata": {},
   "outputs": [],
   "source": []
  },
  {
   "cell_type": "code",
   "execution_count": null,
   "id": "1e3ad8e3",
   "metadata": {},
   "outputs": [],
   "source": []
  }
 ],
 "metadata": {
  "kernelspec": {
   "display_name": "Python 3 (ipykernel)",
   "language": "python",
   "name": "python3"
  },
  "language_info": {
   "codemirror_mode": {
    "name": "ipython",
    "version": 3
   },
   "file_extension": ".py",
   "mimetype": "text/x-python",
   "name": "python",
   "nbconvert_exporter": "python",
   "pygments_lexer": "ipython3",
   "version": "3.9.7"
  }
 },
 "nbformat": 4,
 "nbformat_minor": 5
}
