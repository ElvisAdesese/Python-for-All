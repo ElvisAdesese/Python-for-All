{
 "cells": [
  {
   "cell_type": "code",
   "execution_count": 1,
   "id": "0e86525b",
   "metadata": {},
   "outputs": [
    {
     "name": "stdout",
     "output_type": "stream",
     "text": [
      "a equals b\n"
     ]
    }
   ],
   "source": [
    "#equals\n",
    "a = 10\n",
    "b = 10\n",
    "if a == b:\n",
    "    print('a equals b')"
   ]
  },
  {
   "cell_type": "code",
   "execution_count": 2,
   "id": "31ca2487",
   "metadata": {},
   "outputs": [
    {
     "name": "stdout",
     "output_type": "stream",
     "text": [
      "a is less than b\n"
     ]
    }
   ],
   "source": [
    "#less than\n",
    "a = 10\n",
    "b = 14\n",
    "if a < b:\n",
    "    print('a is less than b')"
   ]
  },
  {
   "cell_type": "code",
   "execution_count": 3,
   "id": "9e3f2c33",
   "metadata": {},
   "outputs": [
    {
     "name": "stdout",
     "output_type": "stream",
     "text": [
      "a is less than b\n"
     ]
    }
   ],
   "source": [
    "a = 10\n",
    "b = 14\n",
    "if a >b:\n",
    "    print('a is greater than b')\n",
    "else:\n",
    "    print('a is less than b')"
   ]
  },
  {
   "cell_type": "code",
   "execution_count": 6,
   "id": "ea174c9c",
   "metadata": {},
   "outputs": [
    {
     "name": "stdout",
     "output_type": "stream",
     "text": [
      "a is less than b\n"
     ]
    }
   ],
   "source": [
    "a = 10\n",
    "b = 14\n",
    "if a > b:\n",
    "    print('a is greater than b')\n",
    "elif a==b:\n",
    "    print('a is equal to b')\n",
    "else:\n",
    "    print('a is less than b')"
   ]
  },
  {
   "cell_type": "code",
   "execution_count": 9,
   "id": "e58da7c7",
   "metadata": {},
   "outputs": [
    {
     "name": "stdout",
     "output_type": "stream",
     "text": [
      "a does not equal b\n"
     ]
    }
   ],
   "source": [
    "a = 10\n",
    "b = 14\n",
    "if a != b:\n",
    "    print('a does not equal b')\n",
    "else:\n",
    "    print('a is less than b')"
   ]
  },
  {
   "cell_type": "markdown",
   "id": "606a1396",
   "metadata": {},
   "source": [
    "# Project "
   ]
  },
  {
   "cell_type": "code",
   "execution_count": 29,
   "id": "eea2c325",
   "metadata": {},
   "outputs": [
    {
     "name": "stdout",
     "output_type": "stream",
     "text": [
      "What is your gender (M/F):M\n",
      "Male\n",
      "What is your age?27\n",
      "Less/Equal to 29\n",
      "What is the market price of your car?43000\n",
      "insurance offer: 9890.0\n"
     ]
    }
   ],
   "source": [
    "gender =input('What is your gender (M/F):')\n",
    "gender =gender.upper()\n",
    "if gender == 'M':\n",
    "    print('Male')\n",
    "    age = input('What is your age?')\n",
    "    age =int(age)\n",
    "    if age <=29:\n",
    "        print('Less/Equal to 29')\n",
    "        percentage = 23\n",
    "    else:\n",
    "        print('More than 29')\n",
    "        percentage = 9\n",
    "\n",
    "elif gender == 'F':\n",
    "    print('Female')\n",
    "    car_type = input('What is your car type (sports/non-sports)')\n",
    "    #car_type = car_type.upper()\n",
    "    if car_type == 'Sports':\n",
    "        print('Sports car')\n",
    "        percentage = 21\n",
    "    else:\n",
    "        print('Non-sports car')\n",
    "        percentage = 10\n",
    "else:\n",
    "    print('Wrong format')\n",
    "    percentage = None\n",
    "    \n",
    "market_price = input('What is the market price of your car?')    \n",
    "market_price = int(market_price)\n",
    "insurance_offer = market_price*percentage/100\n",
    "\n",
    "print(f'insurance offer: {insurance_offer}')"
   ]
  },
  {
   "cell_type": "code",
   "execution_count": null,
   "id": "36a3cd0f",
   "metadata": {},
   "outputs": [],
   "source": []
  }
 ],
 "metadata": {
  "kernelspec": {
   "display_name": "Python 3 (ipykernel)",
   "language": "python",
   "name": "python3"
  },
  "language_info": {
   "codemirror_mode": {
    "name": "ipython",
    "version": 3
   },
   "file_extension": ".py",
   "mimetype": "text/x-python",
   "name": "python",
   "nbconvert_exporter": "python",
   "pygments_lexer": "ipython3",
   "version": "3.9.7"
  }
 },
 "nbformat": 4,
 "nbformat_minor": 5
}
